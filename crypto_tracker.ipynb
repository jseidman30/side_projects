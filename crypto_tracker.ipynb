{\rtf1\ansi\ansicpg1252\cocoartf2639
\cocoatextscaling0\cocoaplatform0{\fonttbl\f0\fswiss\fcharset0 Helvetica;}
{\colortbl;\red255\green255\blue255;}
{\*\expandedcolortbl;;}
\margl1440\margr1440\vieww13440\viewh7240\viewkind0
\pard\tx566\tx1133\tx1700\tx2267\tx2834\tx3401\tx3968\tx4535\tx5102\tx5669\tx6236\tx6803\pardirnatural\partightenfactor0

\f0\fs24 \cf0 \{\
 "cells": [\
  \{\
   "cell_type": "code",\
   "execution_count": 1,\
   "id": SOME_ID,\
   "metadata": \{\},\
   "outputs": [\
    \{\
     "name": "stdout",\
     "output_type": "stream",\
     "text": [\
      "/Users/jas/Tracker/Dummy Data/fileinput.csv\\n"\
     ]\
    \}\
   ],\
   "source": [\
    "import pandas as pd\\n",\
    "import numpy as np\\n",\
    "import pycoingecko\\n",\
    "import csv\\n",\
    "\\n",\
    "# Initialize the CoinGecko API client\\n",\
    "cg = pycoingecko.CoinGeckoAPI()\\n",\
    "\\n",\
    "# Specify the file path and file name\\n",\
    "file_path = PATH\\n\'94,\
    "file_name = 'fileinput.csv'\\n",\
    "fullpathin = file_path+file_name\\n",\
    "file_out = 'fileoutput.csv'\\n",\
    "fullpathout = file_path+file_out\\n",\
    "\\n",\
    "# Read the CSV file\\n",\
    "df = pd.read_csv(fullpathin)\\n",\
    "\\n",\
    "print(fullpathin)"\
   ]\
  \},\
  \{\
   "cell_type": "code",\
   "execution_count": 2,\
   "id": SOME_ID,\
   "metadata": \{\},\
   "outputs": [\
    \{\
     "name": "stdout",\
     "output_type": "stream",\
     "text": [\
      "['Old/New?', 'chain', 'API_id', 'Symbol', 'Price', \'91Owner1\'92, 'Owner1$', 'Owner2\'92, 'Owner2$', 'Owner3\'92, 'Owner3$', 'Owner4\'92, 'Owner4$', 'Total']\\n"\
     ]\
    \}\
   ],\
   "source": [\
    "# Get a list of unique crypto symbols in the file\\n",\
    "# symbols = df['Symbol'].unique()\\n",\
    "print(list(df.columns))"\
   ]\
  \},\
  \{\
   "cell_type": "code",\
   "execution_count": 3,\
   "id": SOME_ID,\
   "metadata": \{\},\
   "outputs": [],\
   "source": [\
    "symbols = df['API_id'].unique()"\
   ]\
  \},\
  \{\
   "cell_type": "code",\
   "execution_count": 4,\
   "id": SOME_ID,\
   "metadata": \{\},\
   "outputs": [],\
   "source": [\
    "api_ids = []\\n",\
    "prices = \{\}\\n",\
    "\\n",\
    "rows = []\\n",\
    "with open(fullpathin) as f_in:\\n",\
    "    reader = csv.DictReader(f_in)\\n",\
    "    for row in reader:\\n",\
    "        api_ids.append(row[\\"API_id\\"])\\n",\
    "        rows.append(row)\\n",\
    "\\n",\
    "coin_info = cg.get_price(ids=','.join(api_ids), vs_currencies='usd')\\n",\
    "\\n",\
    "fieldnames = reader.fieldnames\\n",\
    "with open(fullpathout, \\"w\\", newline=\\"\\") as f_out:\\n",\
    "    writer = csv.DictWriter(f_out, fieldnames=fieldnames)\\n",\
    "    writer.writeheader()\\n",\
    "\\n",\
    "    for row in rows:\\n",\
    "        api_id = row[\\"API_id\\"]\\n",\
    "        if not coin_info or api_id not in coin_info:\\n",\
    "# or 'usd' not in coin_info[api_id]\\n",\
    "            print(f\\"No information found for API ID \{api_id\} or the 'usd' key is not present\\")\\n",\
    "        else:\\n",\
    "            price = coin_info[api_id]['usd']\\n",\
    "            row[\\\'94Owner1$\\\'94] = float(row[\\"Owner1\\"]) * price\\n",\
    "            row[\\"Owner2$\\"] = float(row[\\"Owner2\\\'94]) * price\\n",\
    "            row[\\"Owner3$\\"] = float(row[\\"Owner3\\\'94]) * price\\n",\
    "            row[\\"Owner4$\\"] = float(row[\\"Owner4\\\'94]) * price\\n",\
    "            row[\\"Total\\"] = (row[\\"Owner1$\\"]+row[\\"Owner2$\\"]+row[\\"Owner3$\\"]+row[\\"Owner4$\\"])\\n",\
    "            row[\\"Price\\"] = price\\n",\
    "            writer.writerow(row)"\
   ]\
  \}\
 ],\
 "metadata": \{\
  "kernelspec": \{\
   "display_name": "Python 3 (ipykernel)",\
   "language": "python",\
   "name": "python3"\
  \},\
  "language_info": \{\
   "codemirror_mode": \{\
    "name": "ipython",\
    "version": 3\
   \},\
   "file_extension": ".py",\
   "mimetype": "text/x-python",\
   "name": "python",\
   "nbconvert_exporter": "python",\
   "pygments_lexer": "ipython3",\
   "version": "3.9.12"\
  \}\
 \},\
 "nbformat": 4,\
 "nbformat_minor": 5\
\}\
}