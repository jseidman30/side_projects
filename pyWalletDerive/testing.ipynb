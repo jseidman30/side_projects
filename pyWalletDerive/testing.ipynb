{
 "cells": [
  {
   "cell_type": "code",
   "execution_count": 31,
   "id": "f3b1f9e2",
   "metadata": {},
   "outputs": [],
   "source": [
    "# Import dependencies\n",
    "import subprocess\n",
    "import json\n",
    "from dotenv import load_dotenv\n",
    "import os\n",
    "from constants import *\n",
    "from bit import PrivateKeyTestnet\n",
    "from bit.network import NetworkAPI\n",
    "from web3 import Web3\n",
    "from web3.middleware import geth_poa_middleware\n",
    "from eth_account import Account"
   ]
  },
  {
   "cell_type": "code",
   "execution_count": 32,
   "id": "2f95a4bd",
   "metadata": {},
   "outputs": [],
   "source": [
    "# Load and set environment variables\n",
    "load_dotenv('mnemonics.env')\n",
    "mnemonic=os.getenv(\"BIP39_MNEMONIC\")\n",
    "\n",
    "w3 = Web3(Web3.HTTPProvider('http://127.0.0.1:8545'))\n",
    "w3.middleware_onion.inject(geth_poa_middleware, layer=0)"
   ]
  },
  {
   "cell_type": "code",
   "execution_count": 33,
   "id": "0b846947-cab0-4d1f-a80f-dfc8619697e5",
   "metadata": {},
   "outputs": [
    {
     "name": "stdout",
     "output_type": "stream",
     "text": [
      "proof calm dream lion leg again similar delay clerk twice brown island\n"
     ]
    }
   ],
   "source": [
    "print(mnemonic)"
   ]
  },
  {
   "cell_type": "code",
   "execution_count": 34,
   "id": "31a0d409",
   "metadata": {},
   "outputs": [],
   "source": [
    "# Create a function called `derive_wallets`\n",
    "\n",
    "def derive_wallets(coin,mnemonic=mnemonic,depths=3):\n",
    "    command = f'php ./hd-wallet-derive/hd-wallet-derive.php -g --mnemonic=\"{mnemonic}\" --cols=all --coin={coin} --numderive={depths} --format=json'\n",
    "    p = subprocess.Popen(command, stdout=subprocess.PIPE, shell=True)\n",
    "    output, err = p.communicate()\n",
    "    p_status = p.wait()\n",
    "    return json.loads(output)"
   ]
  },
  {
   "cell_type": "code",
   "execution_count": 35,
   "id": "4577e748",
   "metadata": {},
   "outputs": [
    {
     "data": {
      "text/plain": [
       "[{'path': \"m/44'/60'/0'/0/0\",\n",
       "  'address': '0x72FaD3E6dbF9922f463aA43afd94F725345206B7',\n",
       "  'xprv': 'xprvA2ZNc6Df5cM63pDwTjg5jJAGuVcDvJ8FbRnFv7yejzKhGF1hRVDdcnTPNd3SC9wC9TAeoZMDEk2BJdpATMmjBkDHCgZMqn9hQAfTHxPxR74',\n",
       "  'xpub': 'xpub6FYj1bkYuyuPGJJQZmD66S71TXSiKkr6xehriWPGJKrg93Lqy2XtAamsDtNeWZzEcz9YJyxiFjtR5FpoYCxCuthDi5BXQZVSpC3xvtCNSpc',\n",
       "  'privkey': '0x32bc3836c004e4cc75c047f516a3a0471071414abcf122081763b94a5413f83e',\n",
       "  'pubkey': '025a594b0efac51d44a9fea855905c558232673dc3fe3cf4099250a71fffacdd6c',\n",
       "  'pubkeyhash': '3b88b50cf4328d927cb61e175b759e85bff4d93b',\n",
       "  'index': 0},\n",
       " {'path': \"m/44'/60'/0'/0/1\",\n",
       "  'address': '0x4B18Ab7743ef77bC72A97b73E62354fAb59fc593',\n",
       "  'xprv': 'xprvA2ZNc6Df5cM673Lq3VjJYcDNx3XgrtnaUzM6N4WJqyYfn4XbvXw2nWrV25jkWJmoGbajACMkMDm8HoiPnRDohUjgykDjh373naqz7PQMnEW',\n",
       "  'xpub': 'xpub6FYj1bkYuyuPKXRJ9XGJukA7W5NBGMWRrDGhASuvQK5eerrkU5FHLKAxsMbdGTTUoZfBCipixyWcf2jsXUAZBUJ6JvDv1mTifrudrGQNCHE',\n",
       "  'privkey': '0x07e98c624c3151299de8c4fdbb28466e160b247a8379e3459b5295bcb0ce5201',\n",
       "  'pubkey': '027526495a9cfa4abe619ccdf63409404a3a65d51a64a101f24f190f492a71a4bc',\n",
       "  'pubkeyhash': '6d7e26fe33900440f12b6526e00172509236aa68',\n",
       "  'index': 1},\n",
       " {'path': \"m/44'/60'/0'/0/2\",\n",
       "  'address': '0x8F98c25c8848410ABd9B0912A5BfC8BEab13bdF0',\n",
       "  'xprv': 'xprvA2ZNc6Df5cM6AjtWC9rFS6Aj1JW6g4A1dkAG8Tkw4XLFY21thsDfdj5mNKohWYp24qTS1kY98b9HAAGGZcMvRduhtnBRUXxt6UVSrRAgFEB',\n",
       "  'xpub': 'xpub6FYj1bkYuyuPPDxyJBPFoE7TZLLb5Wsrzy5rvrAYcrsEQpM3FQXvBXQFDcpshby9NkBYyw4DgUwcznya5QyosNtf3XdusshhDADwznLFDWX',\n",
       "  'privkey': '0xde034fb1511d2437de8eb9f13d52159c3c9fe10913d88560d261a852675ca915',\n",
       "  'pubkey': '03e410712c1131b169c2f8722bf1e5731eda56f81cefcbf9bee27915b42beab6c9',\n",
       "  'pubkeyhash': '393810d03e2afbae6797a216867ea3b175983544',\n",
       "  'index': 2}]"
      ]
     },
     "execution_count": 35,
     "metadata": {},
     "output_type": "execute_result"
    }
   ],
   "source": [
    "derive_wallets(coin=ETH)"
   ]
  },
  {
   "cell_type": "code",
   "execution_count": 36,
   "id": "6a2cd2d3",
   "metadata": {},
   "outputs": [],
   "source": [
    "# Create a dictionary object called coins to store the output from `derive_wallets`.\n",
    "coins = {\n",
    "    BTC:derive_wallets(BTC,mnemonic),\n",
    "    BTCTEST:derive_wallets(BTCTEST,mnemonic),\n",
    "    ETH:derive_wallets(ETH,mnemonic)\n",
    "}"
   ]
  },
  {
   "cell_type": "code",
   "execution_count": 37,
   "id": "66e42d2e",
   "metadata": {},
   "outputs": [],
   "source": [
    "# Create a function called `priv_key_to_account` that converts privkey strings to account objects.\n",
    "def priv_key_to_account(coin,privkey):\n",
    "    if coin == ETH:\n",
    "        return Account.privateKeyToAccount(privkey)\n",
    "    elif coin == BTCTEST:\n",
    "        return PrivateKeyTestnet(privkey)\n",
    "    else:\n",
    "        return privkeybtc(privkey)"
   ]
  },
  {
   "cell_type": "code",
   "execution_count": 44,
   "id": "6a6e7a64-f335-4694-a5ea-d2101110b0a6",
   "metadata": {},
   "outputs": [
    {
     "data": {
      "text/plain": [
       "'0x72FaD3E6dbF9922f463aA43afd94F725345206B7'"
      ]
     },
     "execution_count": 44,
     "metadata": {},
     "output_type": "execute_result"
    }
   ],
   "source": [
    "account = priv_key_to_account(ETH,'0x32bc3836c004e4cc75c047f516a3a0471071414abcf122081763b94a5413f83e')\n",
    "account.address"
   ]
  },
  {
   "cell_type": "code",
   "execution_count": 45,
   "id": "49ed430b",
   "metadata": {},
   "outputs": [],
   "source": [
    "# Create a function called `create_tx` that creates an unsigned transaction appropriate metadata.\n",
    "def create_tx(acct, recipient, amt):\n",
    "    gasest = w3.eth.estimateGas(\n",
    "        {\"from\": acct.address, \"to\": recipient, \"value\": amt}\n",
    "    )\n",
    "    return {\n",
    "        \"chainId\": 666, \n",
    "        \"from\": acct.address,\n",
    "        \"to\": recipient,\n",
    "        \"value\": amt,\n",
    "        \"gasPrice\": w3.eth.gasPrice,\n",
    "        \"gas\": gasest,\n",
    "        \"nonce\": w3.eth.getTransactionCount(acct.address),\n",
    "    }"
   ]
  },
  {
   "cell_type": "code",
   "execution_count": 46,
   "id": "0e3d7a09",
   "metadata": {},
   "outputs": [],
   "source": [
    "# Create a function called `send_tx` that calls `create_tx`, signs and sends the transaction.\n",
    "def send_tx(acct, recipient, amt):\n",
    "    tx = create_tx(acct, recipient, amt)\n",
    "    signed_tx = acct.sign_transaction(tx)\n",
    "    output = w3.eth.sendRawTransaction(signed_tx.rawTransaction)\n",
    "    print(output.hex())\n",
    "    return output.hex()"
   ]
  },
  {
   "cell_type": "code",
   "execution_count": 51,
   "id": "a9ae8ffe",
   "metadata": {},
   "outputs": [
    {
     "name": "stdout",
     "output_type": "stream",
     "text": [
      "0x9272626fa6e6a07408a1dd0812749ddcfd160d2c24732d7e8cbd3016c1434e46\n"
     ]
    },
    {
     "data": {
      "text/plain": [
       "'0x9272626fa6e6a07408a1dd0812749ddcfd160d2c24732d7e8cbd3016c1434e46'"
      ]
     },
     "execution_count": 51,
     "metadata": {},
     "output_type": "execute_result"
    }
   ],
   "source": [
    "send_tx(account,\"0x30b0EE600e253762d663aE40eFB5E17197AdA440\",10000000000)"
   ]
  },
  {
   "cell_type": "code",
   "execution_count": 59,
   "id": "dcb59fa0-7c6c-4b16-809d-db5c8e873a74",
   "metadata": {},
   "outputs": [
    {
     "data": {
      "text/plain": [
       "9999999998739990000000000"
      ]
     },
     "execution_count": 59,
     "metadata": {},
     "output_type": "execute_result"
    }
   ],
   "source": [
    "w3.eth.get_balance(account.address)"
   ]
  },
  {
   "cell_type": "code",
   "execution_count": 60,
   "id": "b94925e1-4f0c-4b4d-b1e4-66c21263f9f1",
   "metadata": {},
   "outputs": [
    {
     "data": {
      "text/plain": [
       "[{'path': \"m/44'/1'/0'/0/0\",\n",
       "  'address': 'musFVHfFMAu4bmeTwTB76FnJRxJTpRtZvN',\n",
       "  'xprv': 'tprv8kokjCiCFAyQuDyrUdY7ui1MKasZkBmravt71UAJ9UEkUXhq29yYo7bKBmTvxhaVXRBqJwh3q8ewu2iCGBKiDQxAeUuTxpc7h9uc9wRNxEd',\n",
       "  'xpub': 'tpubDHVnsckSPYf5nh1eNHCiK7fTtcPVuWxmAEUtHzCbZk39K1xbeYo8ycDBMw1FHm65RuGLTBLWCTrkik9BgC2FDfv6FvcWjcAYJPrgnJAxxdC',\n",
       "  'privkey': 'cNLGwNwcg4cCSGnemXZWfCgeppmnTcrCa6SNUEKqo5kexUSZDkZt',\n",
       "  'pubkey': '036bf6a068691b18602f8af77b32cd581d197c643df27aa59ca4b14bf7344f8de3',\n",
       "  'pubkeyhash': '9d686eca90adf2ac6e7bf2dc847fb6b15a41a487',\n",
       "  'index': 0},\n",
       " {'path': \"m/44'/1'/0'/0/1\",\n",
       "  'address': 'myKQSEjyp4qJgN6q8AehMbhLZVqDnZ3ZSL',\n",
       "  'xprv': 'tprv8kokjCiCFAyQvdNCwcGfm5TCuR7knfB5iadNZkumh4ajyat2MWKemFeE9nJZ6F2EZmtoU1n4PiSFeCGhovABLYKsyZh9PCKHd8BAeVKJp8N',\n",
       "  'xpub': 'tpubDHVnsckSPYf5p6PzqFwGAV7KUSdgwzMzHtE9rGx57LP8p58nyu9EwkG6KuvfianMnykqDCbtwvRafe76bmjbCYoL6WaZS1R8n1BP1sUfJ6z',\n",
       "  'privkey': 'cTJgdYcXWqnKXSMHjrLvNhAJXxE3CeJZwPXW8jSW5Ue6LVgF6csG',\n",
       "  'pubkey': '0303d59da7ef3fecc8be850ae111fcee296bb5db7d666769377bff6306acc6c2df',\n",
       "  'pubkeyhash': 'c343181417a992d7844a1496a66fa56b0c465566',\n",
       "  'index': 1},\n",
       " {'path': \"m/44'/1'/0'/0/2\",\n",
       "  'address': 'n13NRSDdGgVUwQM1t4eszGj5muDBJb6Mcb',\n",
       "  'xprv': 'tprv8kokjCiCFAyQxpD1vsfFSgJBjCWxCxJ7rAyJ9MsRtj33Tk3xpexv2PMSJ3YkQsC1e2oEgoLNehQF6aXamiW9zziWn8JPVZatje7gU2kzsM5',\n",
       "  'xpub': 'tpubDHVnsckSPYf5rHEopXKqr5xJJE2tNHV2RUa5RsujJzqSJEJjT3nWCsyJU9rej3vsGsUkgiadCiJN2bQsgqeyi3prcLNDgbABLVX4oGxks2i',\n",
       "  'privkey': 'cTBP1c5MygJcw5F1YubzkXeWadpKmdW4wE4ULzNkHoZ71aaZ6gEy',\n",
       "  'pubkey': '0253071b096edd59a0000d10257bf59129f0c63586f68907021f01ca32204c463b',\n",
       "  'pubkeyhash': 'd62b02594c45aab863eb64b59b3abf1393a5deb8',\n",
       "  'index': 2}]"
      ]
     },
     "execution_count": 60,
     "metadata": {},
     "output_type": "execute_result"
    }
   ],
   "source": [
    "derive_wallets(coin=BTCTEST)"
   ]
  },
  {
   "cell_type": "code",
   "execution_count": null,
   "id": "d370ad81-ce5d-4857-8f3b-7395f7c50b47",
   "metadata": {},
   "outputs": [],
   "source": []
  }
 ],
 "metadata": {
  "kernelspec": {
   "display_name": "Python 3",
   "language": "python",
   "name": "python3"
  },
  "language_info": {
   "codemirror_mode": {
    "name": "ipython",
    "version": 3
   },
   "file_extension": ".py",
   "mimetype": "text/x-python",
   "name": "python",
   "nbconvert_exporter": "python",
   "pygments_lexer": "ipython3",
   "version": "3.7.10"
  }
 },
 "nbformat": 4,
 "nbformat_minor": 5
}
