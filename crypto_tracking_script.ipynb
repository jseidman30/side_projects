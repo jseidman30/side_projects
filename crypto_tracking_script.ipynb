{
 "cells": [
  {
   "cell_type": "code",
   "execution_count": null,
   "id": "79c05c99",
   "metadata": {},
   "outputs": [],
   "source": [
    "import pandas as pd\n",
    "import numpy as np\n",
    "import pycoingecko\n",
    "import csv\n",
    "\n",
    "# Initialize the CoinGecko API client\n",
    "cg = pycoingecko.CoinGeckoAPI()\n",
    "\n",
    "# Specify the file path and file name\n",
    "file_path = SOME_PATH\n",
    "file_name = 'fileinput.csv'\n",
    "fullpathin = file_path+file_name\n",
    "file_out = 'fileoutput.csv'\n",
    "fullpathout = file_path+file_out\n",
    "\n",
    "# Read the CSV file\n",
    "df = pd.read_csv(fullpathin)\n",
    "\n",
    "print(fullpathin)"
   ]
  },
  {
   "cell_type": "code",
   "execution_count": null,
   "id": "ff1a469e",
   "metadata": {},
   "outputs": [],
   "source": [
    "# Get a list of unique crypto symbols in the file\n",
    "# symbols = df['Symbol'].unique()\n",
    "print(list(df.columns))"
   ]
  },
  {
   "cell_type": "code",
   "execution_count": null,
   "id": "f4d75c6a",
   "metadata": {},
   "outputs": [],
   "source": [
    "symbols = df['API_id'].unique()"
   ]
  },
  {
   "cell_type": "code",
   "execution_count": null,
   "id": "54c94617",
   "metadata": {},
   "outputs": [],
   "source": [
    "api_ids = []\n",
    "prices = {}\n",
    "\n",
    "rows = []\n",
    "with open(fullpathin) as f_in:\n",
    "    reader = csv.DictReader(f_in)\n",
    "    for row in reader:\n",
    "        api_ids.append(row[\"API_id\"])\n",
    "        rows.append(row)\n",
    "\n",
    "coin_info = cg.get_price(ids=','.join(api_ids), vs_currencies='usd')\n",
    "\n",
    "fieldnames = reader.fieldnames\n",
    "with open(fullpathout, \"w\", newline=\"\") as f_out:\n",
    "    writer = csv.DictWriter(f_out, fieldnames=fieldnames)\n",
    "    writer.writeheader()\n",
    "\n",
    "    for row in rows:\n",
    "        api_id = row[\"API_id\"]\n",
    "        if not coin_info or api_id not in coin_info:\n",
    "# or 'usd' not in coin_info[api_id]\n",
    "            print(f\"No information found for API ID {api_id} or the 'usd' key is not present\")\n",
    "        else:\n",
    "            price = coin_info[api_id]['usd']\n",
    "            row[\"OWNER1$\"] = float(row[\"OWNER1\"]) * price\n",
    "            row[\"OWNER2$\"] = float(row[\"OWNER2\"]) * price\n",
    "            row[\"OWNER3$\"] = float(row[\"OWNER3\"]) * price\n",
    "            row[\"OWNER4$\"] = float(row[\"OWNER4\"]) * price\n",
    "            row[\"Total\"] = (row[\"OWNER1$\"]+row[\"OWNER2$\"]+row[\"OWNER3$\"]+row[\"OWNER4$\"])\n",
    "            row[\"Price\"] = price\n",
    "            writer.writerow(row)"
   ]
  }
 ],
 "metadata": {
  "kernelspec": {
   "display_name": "Python 3 (ipykernel)",
   "language": "python",
   "name": "python3"
  },
  "language_info": {
   "codemirror_mode": {
    "name": "ipython",
    "version": 3
   },
   "file_extension": ".py",
   "mimetype": "text/x-python",
   "name": "python",
   "nbconvert_exporter": "python",
   "pygments_lexer": "ipython3",
   "version": "3.9.12"
  }
 },
 "nbformat": 4,
 "nbformat_minor": 5
}
